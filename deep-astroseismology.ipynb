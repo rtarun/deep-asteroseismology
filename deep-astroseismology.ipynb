{
  "nbformat": 4,
  "nbformat_minor": 0,
  "metadata": {
    "colab": {
      "name": "ahw2018_1.ipynb",
      "version": "0.3.2",
      "provenance": [],
      "collapsed_sections": [],
      "include_colab_link": true
    },
    "kernelspec": {
      "name": "python3",
      "display_name": "Python 3"
    }
  },
  "cells": [
    {
      "cell_type": "markdown",
      "metadata": {
        "id": "view-in-github",
        "colab_type": "text"
      },
      "source": [
        "<a href=\"https://colab.research.google.com/github/rtarun/deep-asteroseismology/blob/master/deep-astroseismology.ipynb\" target=\"_parent\"><img src=\"https://colab.research.google.com/assets/colab-badge.svg\" alt=\"Open In Colab\"/></a>"
      ]
    },
    {
      "metadata": {
        "id": "x6Ok6LVQ1_au",
        "colab_type": "code",
        "outputId": "57bc5bd8-6ff6-4d99-dc75-8e1eaf9f21f1",
        "colab": {
          "base_uri": "https://localhost:8080/",
          "height": 119
        }
      },
      "cell_type": "code",
      "source": [
        "!pip install kplr\n",
        "!pip install pyfits\n",
        "!pip install astropy"
      ],
      "execution_count": 0,
      "outputs": [
        {
          "output_type": "stream",
          "text": [
            "Requirement already satisfied: kplr in /usr/local/lib/python3.6/dist-packages (0.2.2)\r\n",
            "Requirement already satisfied: six in /usr/local/lib/python3.6/dist-packages (from kplr) (1.11.0)\n",
            "Requirement already satisfied: pyfits in /usr/local/lib/python3.6/dist-packages (3.5)\n",
            "Requirement already satisfied: numpy in /usr/local/lib/python3.6/dist-packages (from pyfits) (1.14.5)\n",
            "Requirement already satisfied: astropy in /usr/local/lib/python3.6/dist-packages (3.0.4)\n",
            "Requirement already satisfied: numpy>=1.10.0 in /usr/local/lib/python3.6/dist-packages (from astropy) (1.14.5)\n"
          ],
          "name": "stdout"
        }
      ]
    },
    {
      "metadata": {
        "id": "yAOzER7lyUWq",
        "colab_type": "code",
        "colab": {}
      },
      "cell_type": "code",
      "source": [
        "import kplr\n",
        "import pyfits\n",
        "import astropy"
      ],
      "execution_count": 0,
      "outputs": []
    },
    {
      "metadata": {
        "id": "cRtjsEbR15Vh",
        "colab_type": "code",
        "colab": {}
      },
      "cell_type": "code",
      "source": [
        "client = kplr.API()\n",
        "star = client.star(\"2570518\")\n",
        "kdata = star.get_light_curves(fetch=True, short_cadence=False)"
      ],
      "execution_count": 0,
      "outputs": []
    },
    {
      "metadata": {
        "id": "aPk6z8_57qWP",
        "colab_type": "code",
        "outputId": "a0167e36-bfa0-4731-aa81-e290744a67f6",
        "colab": {
          "base_uri": "https://localhost:8080/",
          "height": 54
        }
      },
      "cell_type": "code",
      "source": [
        "print(kdata)"
      ],
      "execution_count": 0,
      "outputs": [
        {
          "output_type": "stream",
          "text": [
            "[<LightCurve(\"KPLR002570518-2009166043257_LC\")>, <LightCurve(\"KPLR002570518-2009259160929_LC\")>, <LightCurve(\"KPLR002570518-2009350155506_LC\")>, <LightCurve(\"KPLR002570518-2010078095331_LC\")>, <LightCurve(\"KPLR002570518-2010174085026_LC\")>, <LightCurve(\"KPLR002570518-2010265121752_LC\")>, <LightCurve(\"KPLR002570518-2010355172524_LC\")>, <LightCurve(\"KPLR002570518-2011073133259_LC\")>, <LightCurve(\"KPLR002570518-2011177032512_LC\")>, <LightCurve(\"KPLR002570518-2011271113734_LC\")>, <LightCurve(\"KPLR002570518-2012004120508_LC\")>, <LightCurve(\"KPLR002570518-2012088054726_LC\")>, <LightCurve(\"KPLR002570518-2012179063303_LC\")>, <LightCurve(\"KPLR002570518-2012277125453_LC\")>, <LightCurve(\"KPLR002570518-2013011073258_LC\")>, <LightCurve(\"KPLR002570518-2013098041711_LC\")>, <LightCurve(\"KPLR002570518-2013131215648_LC\")>]\n"
          ],
          "name": "stdout"
        }
      ]
    },
    {
      "metadata": {
        "id": "RPkpD5m57ja3",
        "colab_type": "code",
        "outputId": "066aedf3-12f7-43c9-d262-3f959301690a",
        "colab": {
          "base_uri": "https://localhost:8080/",
          "height": 34
        }
      },
      "cell_type": "code",
      "source": [
        "type(kdata)"
      ],
      "execution_count": 0,
      "outputs": [
        {
          "output_type": "execute_result",
          "data": {
            "text/plain": [
              "list"
            ]
          },
          "metadata": {
            "tags": []
          },
          "execution_count": 8
        }
      ]
    },
    {
      "metadata": {
        "id": "ssU0uNZK4_mv",
        "colab_type": "code",
        "colab": {}
      },
      "cell_type": "code",
      "source": [
        "from astropy.io import fits\n",
        "# fits_image_filename = fits.util.get_testdata_filepath(kdata)\n",
        "# hdul = fits.open(unicode(kdata.toUtf8(), encoding=\"UTF-8\"))\n",
        "# hdul = fits.open(kdata)\n",
        "\n",
        "# hdul = fits.open('KPLR002570518-2009166043257_LC.fits')"
      ],
      "execution_count": 0,
      "outputs": []
    }
  ]
}